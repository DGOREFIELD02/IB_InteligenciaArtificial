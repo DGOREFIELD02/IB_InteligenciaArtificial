{
  "nbformat": 4,
  "nbformat_minor": 0,
  "metadata": {
    "colab": {
      "provenance": [],
      "toc_visible": true
    },
    "kernelspec": {
      "name": "python3",
      "display_name": "Python 3"
    },
    "language_info": {
      "name": "python"
    }
  },
  "cells": [
    {
      "cell_type": "code",
      "execution_count": 62,
      "metadata": {
        "colab": {
          "base_uri": "https://localhost:8080/"
        },
        "id": "IUTB0PmBMouP",
        "outputId": "f3979a5a-f38a-47f2-c5b5-dff58993eabd"
      },
      "outputs": [
        {
          "output_type": "stream",
          "name": "stdout",
          "text": [
            "Which exercise are you trying to check? (1, 2 or 3)1\n",
            "This is a greet simulator\n",
            "Hi! what is your name?\n",
            "Enter your first name: Diego\n",
            "Enter your surname: Garza\n",
            "Good morning! Diego Garza, How is your day going? \n"
          ]
        }
      ],
      "source": [
        "example = int(input(\"Which exercise are you trying to check? (1, 2 or 3)\"))\n",
        "\n",
        "if example == 1:\n",
        "    #Example 1\n",
        "      print(\"This is a greet simulator\")\n",
        "      print(\"Hi! what is your name?\")\n",
        "      firstname = input(\"Enter your first name: \")\n",
        "      surname = input(\"Enter your surname: \")\n",
        "      names = [\"Ana\", \"John\", \"Peter\"]\n",
        "\n",
        "      if firstname in names:\n",
        "        print(\"I am not going to greet you\")\n",
        "      else:\n",
        "        print(f\"Good morning! {firstname} {surname}, How is your day going? \")\n",
        "  \n",
        "elif example == 2:\n",
        "    #Example 2\n",
        "\n",
        "    def list(list2):\n",
        "      if list2 == []:\n",
        "        inversed = list2\n",
        "      else:\n",
        "        inversed = [list2[-1]] + list(list2[:-1])\n",
        "      return inversed\n",
        "\n",
        "    print(\"This is a list maker (also reverse the list)\")\n",
        "\n",
        "    x = int(input(\"Total elements:\"))\n",
        "    list2 = []\n",
        "    for i in range(x):\n",
        "      elements = input(\"Enter the elements: \")\n",
        "      list2.append(elements)\n",
        "\n",
        "    print(\"Last element on list :\", list2[-1])\n",
        "    print(\"Original list :\",list2)\n",
        "    print(\"Reversed list :\",list(list2))\n",
        "\n",
        "elif example == 3:\n",
        "    #Example 3\n",
        "    \n",
        "    print(\"This is a chart maker with a greeting\")\n",
        "    firstname = input(\"Enter your first name: \")\n",
        "    surname = input(\"Enter your surname: \")\n",
        "    names = [\"Ana\", \"John\", \"Peter\"]\n",
        "\n",
        "    if firstname in names:\n",
        "        print(\"*******\")\n",
        "        print(\"*Hi    *\")\n",
        "        print(\"*my    *\")\n",
        "        print(\"*is   *\")\n",
        "        print(\"*\",firstname,\"*\")\n",
        "        print(\"*\",surname,\"*\")\n",
        "        print(\"*******\")\n",
        "    else:\n",
        "        print(\"*******\")\n",
        "        print(\"*Hi    *\")\n",
        "        print(\"*my    *\")\n",
        "        print(\"*is   *\")\n",
        "        print(\"*\",firstname,\"*\")\n",
        "        print(\"*\",surname,\"*\")\n",
        "        print(\"*******\")\n",
        "        list = []\n",
        "        list.append(firstname)\n",
        "        list.append(surname)\n",
        "        print(list)\n",
        "else:\n",
        "  print(\"error\")"
      ]
    }
  ]
}